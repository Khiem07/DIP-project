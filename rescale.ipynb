{
 "cells": [
  {
   "cell_type": "code",
   "execution_count": 1,
   "metadata": {},
   "outputs": [],
   "source": [
    "import cv2\n",
    "\n",
    "# Load an image\n",
    "image = cv2.imread(\"C:/Users/Admin/Documents/HUST/DIP/blurred_sharp/test/Nick_blur.jpeg\")\n",
    "\n",
    "# Define new size\n",
    "new_width = 720\n",
    "new_height = 720\n",
    "\n",
    "# Rescale the image\n",
    "rescaled_image = cv2.resize(image, (new_width, new_height))\n",
    "\n",
    "# Save or display the rescaled image\n",
    "cv2.imwrite(\"Nick_img.jpeg\", rescaled_image)\n",
    "cv2.imshow(\"Nick_img\", rescaled_image)\n",
    "cv2.waitKey(0)\n",
    "cv2.destroyAllWindows()"
   ]
  }
 ],
 "metadata": {
  "kernelspec": {
   "display_name": "base",
   "language": "python",
   "name": "python3"
  },
  "language_info": {
   "codemirror_mode": {
    "name": "ipython",
    "version": 3
   },
   "file_extension": ".py",
   "mimetype": "text/x-python",
   "name": "python",
   "nbconvert_exporter": "python",
   "pygments_lexer": "ipython3",
   "version": "3.11.7"
  }
 },
 "nbformat": 4,
 "nbformat_minor": 2
}
